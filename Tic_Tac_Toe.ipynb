{
 "cells": [
  {
   "cell_type": "markdown",
   "id": "8962097f",
   "metadata": {},
   "source": [
    "# Install Library Pygame if not already"
   ]
  },
  {
   "cell_type": "code",
   "execution_count": 24,
   "id": "82378ba0",
   "metadata": {},
   "outputs": [],
   "source": [
    "#pip install pygame"
   ]
  },
  {
   "cell_type": "markdown",
   "id": "35239bf6",
   "metadata": {},
   "source": [
    "# Importing required Libraries"
   ]
  },
  {
   "cell_type": "code",
   "execution_count": 25,
   "id": "b310f6e4",
   "metadata": {},
   "outputs": [],
   "source": [
    "import pygame as pg, sys #pygame will be used to build the game\n",
    "from pygame.locals import *\n",
    "import time"
   ]
  },
  {
   "cell_type": "markdown",
   "id": "a447acd1",
   "metadata": {},
   "source": [
    "# Initializing Global Variables"
   ]
  },
  {
   "cell_type": "code",
   "execution_count": 26,
   "id": "d7baace6",
   "metadata": {},
   "outputs": [],
   "source": [
    "XO = 'x'\n",
    "\n",
    "#Initializing winner and draw status\n",
    "winner = None\n",
    "draw = False\n",
    "\n",
    "#Initializing width, heigh and colors for the game\n",
    "width = 400\n",
    "height = 400\n",
    "white = (255,255,255)\n",
    "line_color = (10,10,10)\n",
    "\n",
    "#TicTacToe 3x3 Board\n",
    "TTT = [[None]*3,[None]*3,[None]*3]"
   ]
  },
  {
   "cell_type": "markdown",
   "id": "ac241e5e",
   "metadata": {},
   "source": [
    "# Initializing Pygame Window"
   ]
  },
  {
   "cell_type": "code",
   "execution_count": 27,
   "id": "81451c65",
   "metadata": {},
   "outputs": [],
   "source": [
    "pg.init()\n",
    "fps = 30\n",
    "CLOCK = pg.time.Clock()\n",
    "screen = pg.display.set_mode((width, height+100),0,32)\n",
    "pg.display.set_caption('Tic Tac Toe')"
   ]
  },
  {
   "cell_type": "markdown",
   "id": "f6d1d12b",
   "metadata": {},
   "source": [
    "# Loading and Transforming Images for Homepage, X and O"
   ]
  },
  {
   "cell_type": "code",
   "execution_count": 28,
   "id": "5d8ad8cf",
   "metadata": {},
   "outputs": [],
   "source": [
    "opening = pg.image.load('./Assets/tic_tac_toe_home.jpg')\n",
    "x_img = pg.image.load('./Assets/x.jpg')\n",
    "o_img = pg.image.load('./Assets/o.jpg')\n",
    "\n",
    "x_img = pg.transform.scale(x_img,(80,80))\n",
    "o_img = pg.transform.scale(o_img,(80,80))\n",
    "opening = pg.transform.scale(opening, (width, height+100))"
   ]
  },
  {
   "cell_type": "markdown",
   "id": "9368da12",
   "metadata": {},
   "source": [
    "# Define Function for Game Opening"
   ]
  },
  {
   "cell_type": "code",
   "execution_count": 29,
   "id": "1fefaf4d",
   "metadata": {},
   "outputs": [],
   "source": [
    "def game_opening():\n",
    "    \n",
    "    #Display opening image for 1 second and then draw board for Tic Tac Toe\n",
    "    screen.blit(opening,(0,0))\n",
    "    pg.display.update()\n",
    "    time.sleep(1)\n",
    "    screen.fill(white)\n",
    "    \n",
    "    pg.draw.line(screen, line_color, (width/3,0), (width/3,height), 7)\n",
    "    pg.draw.line(screen, line_color, (width/3*2,0), (width/3*2,height), 7)\n",
    "    \n",
    "    pg.draw.line(screen, line_color, (0, height/3), (width,height/3), 7)\n",
    "    pg.draw.line(screen, line_color, (0, height/3*2), (width,height/3*2), 7)\n",
    "        \n",
    "    draw_status()    "
   ]
  },
  {
   "cell_type": "markdown",
   "id": "7264f3d4",
   "metadata": {},
   "source": [
    "# Define function to display game status on the board"
   ]
  },
  {
   "cell_type": "code",
   "execution_count": 30,
   "id": "31e22750",
   "metadata": {},
   "outputs": [],
   "source": [
    "def draw_status():\n",
    "    \n",
    "    #Checking the game status\n",
    "    global draw\n",
    "    if winner is None:\n",
    "        message = XO.upper() + \"'s Turn'\"\n",
    "    else:\n",
    "        message = winner.upper() + ' won!'\n",
    "    \n",
    "    if draw:\n",
    "        message = 'Game Draw!'\n",
    "        \n",
    "    font = pg.font.Font(None, 30)\n",
    "    text = font.render(message, 1, (255, 255, 255))\n",
    "    \n",
    "    #Copy the rendered message onto the board\n",
    "    screen.fill((0,0,0), (0,400,500,100))\n",
    "    text_rect = text.get_rect(center = (width/2, 500-50))\n",
    "    screen.blit(text, text_rect)\n",
    "    pg.display.update()"
   ]
  },
  {
   "cell_type": "markdown",
   "id": "21481ae0",
   "metadata": {},
   "source": [
    "# Define function to check winner"
   ]
  },
  {
   "cell_type": "code",
   "execution_count": 31,
   "id": "8c28b083",
   "metadata": {},
   "outputs": [],
   "source": [
    "def check_win():\n",
    "    \n",
    "    global TTT, winner, draw\n",
    "    \n",
    "    #Check for winner in rows\n",
    "    for row in range(0,3):\n",
    "        if (TTT[row][0] == TTT[row][1] == TTT[row][2]) and (TTT[row][0] is not None):\n",
    "            winner = TTT[row][0]\n",
    "            pg.draw.line(screen, (250,0,0),\n",
    "                         (0, (row + 1)*height/3 -height/6),\n",
    "                         (width, (row + 1)*height/3 - height/6 ), 4)\n",
    "            break\n",
    "    \n",
    "    #Check for winner in cols\n",
    "    for col in range(0,3):\n",
    "        if (TTT[0][col] == TTT[1][col] == TTT[2][col]) and (TTT[0][col] is not None):\n",
    "            winner = TTT[0][col]\n",
    "            pg.draw.line(screen, (250,0,0),\n",
    "                        ((col+1)*width/3 - width/6,0),\n",
    "                        ((col+1)*width/3 - width/6,height),4)\n",
    "            break\n",
    "    #Check for winner in diagonals        \n",
    "    if (TTT[0][0] == TTT[1][1] == TTT[2][2]) and (TTT[0][0] is not None):\n",
    "        winner = TTT[0][0]\n",
    "        pg.draw.line(screen, (250,70,70), \n",
    "                     (50, 50), (350, 350), 4)\n",
    "        \n",
    "    if (TTT[0][2] == TTT[1][1] == TTT[2][0]) and (TTT[0][2] is not None):\n",
    "        winner = TTT[0][2]\n",
    "        pg.draw.line(screen, (250,70,70), \n",
    "                     (350, 50), (50, 350), 4)\n",
    "    \n",
    "    #if all conditions false then draw\n",
    "    if(all([all(row) for row in TTT])) and (winner is None):\n",
    "        draw = True\n",
    "    \n",
    "    draw_status()                     "
   ]
  },
  {
   "cell_type": "markdown",
   "id": "c68f30da",
   "metadata": {},
   "source": [
    "# Define when & where X and O would be drawn"
   ]
  },
  {
   "cell_type": "code",
   "execution_count": 32,
   "id": "e4ec04fa",
   "metadata": {},
   "outputs": [],
   "source": [
    "def drawXO(row,col):\n",
    "    \n",
    "    global TTT, XO\n",
    "    if row == 1:\n",
    "        posx = 30\n",
    "    if row == 2:\n",
    "        posx = width/3 + 30\n",
    "    if row == 3:\n",
    "        posx = width/3*2 + 30\n",
    "        \n",
    "    if col == 1:\n",
    "        posy = 30\n",
    "    if col == 2:\n",
    "        posy = height/3 + 30\n",
    "    if col == 3:\n",
    "        posy = height/3*2 + 30\n",
    "        \n",
    "    TTT[row-1][col-1] = XO\n",
    "    if XO == 'x':\n",
    "        screen.blit(x_img,(posy,posx))\n",
    "        XO = 'o'\n",
    "    else:\n",
    "        screen.blit(o_img,(posy,posx))\n",
    "        XO = 'x'\n",
    "    \n",
    "    pg.display.update()\n",
    "    "
   ]
  },
  {
   "cell_type": "markdown",
   "id": "0ae6b0f7",
   "metadata": {},
   "source": [
    "# Define what happens when user clicks on the screen"
   ]
  },
  {
   "cell_type": "code",
   "execution_count": 33,
   "id": "7dd27591",
   "metadata": {},
   "outputs": [],
   "source": [
    "def userClick():\n",
    "    x,y = pg.mouse.get_pos()\n",
    "    \n",
    "    if x<width/3:\n",
    "        col = 1\n",
    "    elif x<width/3*2:\n",
    "        col = 2\n",
    "    elif x<width:\n",
    "        col = 3\n",
    "    else:\n",
    "        col = None\n",
    "        \n",
    "    if y<height/3:\n",
    "        row = 1\n",
    "    elif y<height/3*2:\n",
    "        row = 2\n",
    "    elif y<height:\n",
    "        row = 3\n",
    "    else:\n",
    "        row = None\n",
    "        \n",
    "    if row and col and TTT[row-1][col-1] is None:\n",
    "        global XO\n",
    "        \n",
    "        drawXO(row,col)\n",
    "        check_win()"
   ]
  },
  {
   "cell_type": "markdown",
   "id": "dee16387",
   "metadata": {},
   "source": [
    "# Define function to reset the game"
   ]
  },
  {
   "cell_type": "code",
   "execution_count": 34,
   "id": "f53e4bcc",
   "metadata": {},
   "outputs": [],
   "source": [
    "def reset_game():\n",
    "    global TTT, winner, XO, draw\n",
    "    time.sleep(2)\n",
    "    XO = 'x'\n",
    "    draw = False\n",
    "    game_opening()\n",
    "    winner = None\n",
    "    TTT = [[None]*3,[None]*3,[None]*3]"
   ]
  },
  {
   "cell_type": "markdown",
   "id": "36e45b28",
   "metadata": {},
   "source": [
    "# Call Game"
   ]
  },
  {
   "cell_type": "code",
   "execution_count": 35,
   "id": "2f7c7d51",
   "metadata": {},
   "outputs": [
    {
     "ename": "SystemExit",
     "evalue": "",
     "output_type": "error",
     "traceback": [
      "An exception has occurred, use %tb to see the full traceback.\n",
      "\u001b[0;31mSystemExit\u001b[0m\n"
     ]
    }
   ],
   "source": [
    "game_opening()\n",
    "\n",
    "while True:\n",
    "    for event in pg.event.get():\n",
    "        if event.type == QUIT:\n",
    "            pg.quit()\n",
    "            sys.exit()\n",
    "        elif event.type == MOUSEBUTTONDOWN:\n",
    "            userClick()\n",
    "            if winner or draw:\n",
    "                reset_game()\n",
    "    \n",
    "    pg.display.update()\n",
    "    CLOCK.tick(fps)"
   ]
  }
 ],
 "metadata": {
  "kernelspec": {
   "display_name": "Python 3 (ipykernel)",
   "language": "python",
   "name": "python3"
  },
  "language_info": {
   "codemirror_mode": {
    "name": "ipython",
    "version": 3
   },
   "file_extension": ".py",
   "mimetype": "text/x-python",
   "name": "python",
   "nbconvert_exporter": "python",
   "pygments_lexer": "ipython3",
   "version": "3.9.7"
  }
 },
 "nbformat": 4,
 "nbformat_minor": 5
}
